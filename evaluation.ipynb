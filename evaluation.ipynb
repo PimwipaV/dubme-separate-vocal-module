{
  "nbformat": 4,
  "nbformat_minor": 0,
  "metadata": {
    "colab": {
      "provenance": [],
      "authorship_tag": "ABX9TyOcBxMs/aGwE2L7Qn/W599+",
      "include_colab_link": true
    },
    "kernelspec": {
      "name": "python3",
      "display_name": "Python 3"
    },
    "language_info": {
      "name": "python"
    }
  },
  "cells": [
    {
      "cell_type": "markdown",
      "metadata": {
        "id": "view-in-github",
        "colab_type": "text"
      },
      "source": [
        "<a href=\"https://colab.research.google.com/github/PimwipaV/dubme-separate-vocal-module/blob/main/evaluation.ipynb\" target=\"_parent\"><img src=\"https://colab.research.google.com/assets/colab-badge.svg\" alt=\"Open In Colab\"/></a>"
      ]
    },
    {
      "cell_type": "code",
      "source": [
        "#get your google cloud API key\n"
      ],
      "metadata": {
        "id": "oTBPPfGqicVI"
      },
      "execution_count": null,
      "outputs": []
    },
    {
      "cell_type": "code",
      "source": [
        "!export GOOGLE_APPLICATION_CREDENTIALS <add your google cloud API key>"
      ],
      "metadata": {
        "id": "14XSmTjEjb24"
      },
      "execution_count": 11,
      "outputs": []
    },
    {
      "cell_type": "code",
      "execution_count": 12,
      "metadata": {
        "id": "7yEoBAydcemj",
        "colab": {
          "base_uri": "https://localhost:8080/"
        },
        "outputId": "438580fc-897b-480e-caf7-c4641f0ca47a"
      },
      "outputs": [
        {
          "output_type": "stream",
          "name": "stdout",
          "text": [
            "{'error': {'code': 403, 'message': \"Method doesn't allow unregistered callers (callers without established identity). Please use API Key or other form of API consumer identity to call this API.\", 'status': 'PERMISSION_DENIED'}}\n"
          ]
        }
      ],
      "source": [
        "import requests\n",
        "import base64\n",
        "\n",
        "# Replace with your actual API key or use other authentication methods supported by Google Cloud\n",
        "\n",
        "# Replace with your actual audio file path\n",
        "audio_file_path = \"VID20230728222635_en-dance (online-video-cutter.com).mp4\"\n",
        "\n",
        "# Load the audio file and convert it to base64\n",
        "with open(audio_file_path, \"rb\") as audio_file:\n",
        "    audio_content = base64.b64encode(audio_file.read()).decode(\"utf-8\")\n",
        "\n",
        "# Replace with your actual Google Cloud project and location\n",
        "#project_id = \"YOUR_PROJECT_ID\"\n",
        "#location = \"YOUR_LOCATION\"\n",
        "\n",
        "# API endpoint\n",
        "#url = f\"https://speech.googleapis.com/v1p1beta1/projects/{project_id}/locations/{location}/speech:recognize?key={api_key}\"\n",
        "url = \"https://speech.googleapis.com/v1p1beta1/speech:recognize\"\n",
        "\n",
        "\n",
        "# API request payload\n",
        "payload = {\n",
        "    \"audio\": {\n",
        "        \"content\": audio_content\n",
        "    },\n",
        "    \"config\": {\n",
        "        \"enableAutomaticPunctuation\": True,\n",
        "        \"encoding\": \"LINEAR16\",\n",
        "        \"languageCode\": \"en-US\",\n",
        "        \"model\": \"default\",\n",
        "    }\n",
        "}\n",
        "\n",
        "# Send the API request\n",
        "response = requests.post(url, json=payload)\n",
        "\n",
        "# Print the API response\n",
        "print(response.json())\n"
      ]
    },
    {
      "cell_type": "code",
      "source": [
        "#maximum size of input file is 10MB"
      ],
      "metadata": {
        "id": "gWmJ6lzTqp-2"
      },
      "execution_count": null,
      "outputs": []
    },
    {
      "cell_type": "code",
      "source": [],
      "metadata": {
        "id": "k7_KQAV-6Yqr"
      },
      "execution_count": null,
      "outputs": []
    },
    {
      "cell_type": "code",
      "source": [
        "!gcloud services list --enabled"
      ],
      "metadata": {
        "colab": {
          "base_uri": "https://localhost:8080/"
        },
        "id": "zDAFIIjLqqCs",
        "outputId": "b21e7958-2995-4551-a303-99dbb773a490"
      },
      "execution_count": 16,
      "outputs": [
        {
          "output_type": "stream",
          "name": "stdout",
          "text": [
            "\u001b[1;31mERROR:\u001b[0m (gcloud.services.list) You do not currently have an active account selected.\n",
            "Please run:\n",
            "\n",
            "  $ gcloud auth login\n",
            "\n",
            "to obtain new credentials.\n",
            "\n",
            "If you have already logged in with a different account, run:\n",
            "\n",
            "  $ gcloud config set account ACCOUNT\n",
            "\n",
            "to select an already authenticated account to use.\n"
          ]
        }
      ]
    },
    {
      "cell_type": "code",
      "source": [
        "!gcloud config set project gothic-tempest-389900\n"
      ],
      "metadata": {
        "colab": {
          "base_uri": "https://localhost:8080/"
        },
        "id": "p5BYqT6orXCl",
        "outputId": "3a4f77b4-ff18-456e-ed50-681f6626320c"
      },
      "execution_count": 15,
      "outputs": [
        {
          "output_type": "stream",
          "name": "stdout",
          "text": [
            "Updated property [core/project].\n"
          ]
        }
      ]
    },
    {
      "cell_type": "code",
      "source": [
        "!gcloud config set account ACCOUNT"
      ],
      "metadata": {
        "colab": {
          "base_uri": "https://localhost:8080/"
        },
        "id": "QKMnimk0rpdc",
        "outputId": "dfde1eed-7d6d-49e3-da9e-faa1ca075473"
      },
      "execution_count": 17,
      "outputs": [
        {
          "output_type": "stream",
          "name": "stdout",
          "text": [
            "Updated property [core/account].\n"
          ]
        }
      ]
    },
    {
      "cell_type": "code",
      "source": [
        "!gcloud services list --enabled"
      ],
      "metadata": {
        "colab": {
          "base_uri": "https://localhost:8080/"
        },
        "id": "017vxGQlrpgl",
        "outputId": "4c955346-46c2-4c3e-a558-82a6d40de5f3"
      },
      "execution_count": 18,
      "outputs": [
        {
          "output_type": "stream",
          "name": "stdout",
          "text": [
            "\u001b[1;31mERROR:\u001b[0m (gcloud.services.list) Your current active account [ACCOUNT] does not have any valid credentials\n",
            "Please run:\n",
            "\n",
            "  $ gcloud auth login\n",
            "\n",
            "to obtain new credentials.\n",
            "\n",
            "For service account, please activate it first:\n",
            "\n",
            "  $ gcloud auth activate-service-account ACCOUNT\n"
          ]
        }
      ]
    },
    {
      "cell_type": "code",
      "source": [
        "!gcloud auth activate-service-account ACCOUNT"
      ],
      "metadata": {
        "colab": {
          "base_uri": "https://localhost:8080/"
        },
        "id": "JC6r2S4kr3df",
        "outputId": "6219a92a-94e5-4d3f-866a-cf0078d5bf1d"
      },
      "execution_count": 19,
      "outputs": [
        {
          "output_type": "stream",
          "name": "stdout",
          "text": [
            "\u001b[1;31mERROR:\u001b[0m (gcloud.auth.activate-service-account) argument --key-file: Must be specified.\n",
            "Usage: gcloud auth activate-service-account [ACCOUNT] --key-file=KEY_FILE [optional flags]\n",
            "  optional flags may be  --help | --password-file | --prompt-for-password\n",
            "\n",
            "For detailed information on this command and its flags, run:\n",
            "  gcloud auth activate-service-account --help\n"
          ]
        }
      ]
    },
    {
      "cell_type": "code",
      "source": [
        "!gcloud auth activate-service-account --help"
      ],
      "metadata": {
        "colab": {
          "base_uri": "https://localhost:8080/"
        },
        "id": "2-MroHDur8_Y",
        "outputId": "f2f4d2fc-e4d2-4f32-b4fc-e4f1f9f1fea5"
      },
      "execution_count": 20,
      "outputs": [
        {
          "output_type": "stream",
          "name": "stdout",
          "text": [
            "\u001b[m\u001b[1mNAME\u001b[m\n",
            "    gcloud auth activate-service-account - authorize access to Google Cloud\n",
            "        with a service account\n",
            "\n",
            "\u001b[m\u001b[1mSYNOPSIS\u001b[m\n",
            "    \u001b[1mgcloud auth activate-service-account\u001b[m [\u001b[4mACCOUNT\u001b[m] \u001b[1m--key-file\u001b[m=\u001b[4mKEY_FILE\u001b[m\n",
            "        [\u001b[1m--password-file\u001b[m=\u001b[4mPASSWORD_FILE\u001b[m | \u001b[1m--prompt-for-password\u001b[m]\n",
            "        [\u001b[4mGCLOUD_WIDE_FLAG ...\u001b[m]\n",
            "\n",
            "\u001b[m\u001b[1mDESCRIPTION\u001b[m\n",
            "    To allow \u001b[1mgcloud\u001b[m (and other tools in Google Cloud CLI) to use service\n",
            "    account credentials to make requests, use this command to import these\n",
            "    credentials from a file that contains a private authorization key, and\n",
            "    activate them for use in \u001b[1mgcloud\u001b[m. gcloud auth activate-service-account\n",
            "    serves the same function as \u001b[1mgcloud auth login\u001b[m but uses a service account\n",
            "    rather than Google user credentials.\n",
            "\n",
            "    For more information on authorization and credential types, see:\n",
            "    https://cloud.google.com/sdk/docs/authorizing.\n",
            "\n",
            "    \u001b[4mKey File\u001b[m\n",
            "\n",
            "    To obtain the key file for this command, use either the Google Cloud\n",
            "    Console (https://console.cloud.google.com) or \u001b[1mgcloud iam service-accounts\n",
            "    keys create\u001b[m. The key file can be .json (preferred) or .p12 (legacy) format.\n",
            "    In the case of legacy .p12 files, a separate password might be required and\n",
            "    is displayed in the Console when you create the key.\n",
            "\n",
            "    \u001b[4mCredentials\u001b[m\n",
            "\n",
            "    Credentials will also be activated (similar to running \u001b[1mgcloud config set\n",
            "    account [ACCOUNT_NAME]\u001b[m).\n",
            "\n",
            "    If a project is specified using the \u001b[1m--project\u001b[m flag, the project is set in\n",
            "    active configuration, which is the same as running \u001b[1mgcloud config set\n",
            "    project [PROJECT_NAME]\u001b[m. Any previously active credentials, will be retained\n",
            "    (though no longer default) and can be displayed by running \u001b[1mgcloud auth\n",
            "    list\u001b[m.\n",
            "\n",
            "    If you want to delete previous credentials, see \u001b[1mgcloud auth revoke\u001b[m.\n",
            "\n",
            "    \u001b[4mNote:\u001b[m Service accounts use client quotas for tracking usage.\n",
            "\n",
            "\u001b[m\u001b[1mEXAMPLES\u001b[m\n",
            "    To authorize \u001b[1mgcloud\u001b[m to access Google Cloud using an existing service\n",
            "    account while also specifying a project, run:\n",
            "\n",
            "        $ gcloud auth activate-service-account SERVICE_ACCOUNT@DOMAIN.COM \\\n",
            "        --key-file=/path/key.json --project=PROJECT_ID\n",
            "\n",
            "\u001b[m\u001b[1mPOSITIONAL ARGUMENTS\u001b[m\n",
            "     [\u001b[4mACCOUNT\u001b[m]\n",
            "        E-mail address of the service account.\n",
            "\n",
            "\u001b[m\u001b[1mREQUIRED FLAGS\u001b[m\n",
            "     \u001b[1m--key-file\u001b[m=\u001b[4mKEY_FILE\u001b[m\n",
            "        Path to the private key file.\n",
            "\n",
            "\u001b[m\u001b[1mOPTIONAL FLAGS\u001b[m\n",
            "     At most one of these can be specified:\n",
            "\n",
            "       \u001b[1m--password-file\u001b[m=\u001b[4mPASSWORD_FILE\u001b[m\n",
            "          Path to a file containing the password for the service account\n",
            "          private key (only for a .p12 file).\n",
            "\n",
            "       \u001b[1m--prompt-for-password\u001b[m\n",
            "          Prompt for the password for the service account private key (only for\n",
            "          a .p12 file).\n",
            "\n",
            "\u001b[m\u001b[1mGCLOUD WIDE FLAGS\u001b[m\n",
            "    These flags are available to all commands: --access-token-file, --account,\n",
            "    --billing-project, --configuration, --flags-file, --flatten, --format,\n",
            "    --help, --impersonate-service-account, --log-http, --project, --quiet,\n",
            "    --trace-token, --user-output-enabled, --verbosity.\n",
            "\n",
            "    Run \u001b[1m$ gcloud help\u001b[m for details.\n",
            "\n",
            "\u001b[m\u001b[1mNOTES\u001b[m\n",
            "    These variants are also available:\n",
            "\n",
            "        $ gcloud alpha auth activate-service-account\n",
            "\n",
            "        $ gcloud beta auth activate-service-account\n",
            "\n",
            "\u001b[m"
          ]
        }
      ]
    },
    {
      "cell_type": "code",
      "source": [],
      "metadata": {
        "id": "lSlp7RWOy808"
      },
      "execution_count": null,
      "outputs": []
    },
    {
      "cell_type": "code",
      "source": [
        "reference_text = \"But even that you see even the rock and roll dying and all that is touching someone and you know and all that was human contact if you like and now it’s not even hehehe hehe hehe\"\n"
      ],
      "metadata": {
        "id": "FvufKmPay85V"
      },
      "execution_count": null,
      "outputs": []
    },
    {
      "cell_type": "code",
      "source": [
        "#input vdo.mp4 file prior to vocal separation module"
      ],
      "metadata": {
        "id": "mp7-_ZEe0cyK"
      },
      "execution_count": null,
      "outputs": []
    },
    {
      "cell_type": "code",
      "source": [],
      "metadata": {
        "id": "fHhLg2Tw5VK_"
      },
      "execution_count": null,
      "outputs": []
    },
    {
      "cell_type": "code",
      "source": [
        "#API call to Google Speech-to-Text service\n",
        "\n",
        "\n",
        "#response = \"even roll\"\n",
        "#input response as transcribed_text in levenshtein.py"
      ],
      "metadata": {
        "id": "UTQUWC351ANT"
      },
      "execution_count": null,
      "outputs": []
    },
    {
      "cell_type": "code",
      "source": [
        "#response from Google STT = \"even roll\"\n",
        "\n",
        "transcribed_text = \"even roll\"\n"
      ],
      "metadata": {
        "id": "EPKkX7eZy9Dq"
      },
      "execution_count": null,
      "outputs": []
    },
    {
      "cell_type": "code",
      "source": [
        "!pip install Levenshtein"
      ],
      "metadata": {
        "colab": {
          "base_uri": "https://localhost:8080/"
        },
        "id": "nxw0IMWEz05_",
        "outputId": "5dc2fe5d-b0a3-4ac8-e3c3-a87b1bca37b9"
      },
      "execution_count": 22,
      "outputs": [
        {
          "output_type": "stream",
          "name": "stdout",
          "text": [
            "Collecting Levenshtein\n",
            "  Downloading Levenshtein-0.23.0-cp310-cp310-manylinux_2_17_x86_64.manylinux2014_x86_64.whl (169 kB)\n",
            "\u001b[2K     \u001b[90m━━━━━━━━━━━━━━━━━━━━━━━━━━━━━━━━━━━━━━━━\u001b[0m \u001b[32m169.4/169.4 kB\u001b[0m \u001b[31m3.6 MB/s\u001b[0m eta \u001b[36m0:00:00\u001b[0m\n",
            "\u001b[?25hCollecting rapidfuzz<4.0.0,>=3.1.0 (from Levenshtein)\n",
            "  Downloading rapidfuzz-3.5.2-cp310-cp310-manylinux_2_17_x86_64.manylinux2014_x86_64.whl (3.3 MB)\n",
            "\u001b[2K     \u001b[90m━━━━━━━━━━━━━━━━━━━━━━━━━━━━━━━━━━━━━━━━\u001b[0m \u001b[32m3.3/3.3 MB\u001b[0m \u001b[31m48.2 MB/s\u001b[0m eta \u001b[36m0:00:00\u001b[0m\n",
            "\u001b[?25hInstalling collected packages: rapidfuzz, Levenshtein\n",
            "Successfully installed Levenshtein-0.23.0 rapidfuzz-3.5.2\n"
          ]
        }
      ]
    },
    {
      "cell_type": "code",
      "source": [
        "!python3 levenshtein.py"
      ],
      "metadata": {
        "colab": {
          "base_uri": "https://localhost:8080/"
        },
        "id": "C-l72QtXzpz1",
        "outputId": "ac2c502f-31f4-4889-c67f-2429c83cc30c"
      },
      "execution_count": 24,
      "outputs": [
        {
          "output_type": "stream",
          "name": "stdout",
          "text": [
            "Word Error Rate (WER): 4.57%\n"
          ]
        }
      ]
    },
    {
      "cell_type": "code",
      "source": [
        "wer = calculate_wer(reference_text, transcribed_text)\n",
        "print(f\"Word Error Rate (WER): {wer:.2f}%\")\n"
      ],
      "metadata": {
        "id": "4AzC2h3Dy9JN"
      },
      "execution_count": null,
      "outputs": []
    },
    {
      "cell_type": "code",
      "source": [
        "!python3 calculate_matrix.py"
      ],
      "metadata": {
        "colab": {
          "base_uri": "https://localhost:8080/"
        },
        "id": "Aod8caBj2qVi",
        "outputId": "db78de71-36cb-42f1-c43e-e58f16f4c49a"
      },
      "execution_count": 27,
      "outputs": [
        {
          "output_type": "stream",
          "name": "stdout",
          "text": [
            "True Positives: 2\n",
            "False Positives: 0\n",
            "False Negatives: 23\n",
            "Precision: 1.00\n",
            "Recall: 0.08\n",
            "F1 Score: 0.15\n"
          ]
        }
      ]
    },
    {
      "cell_type": "code",
      "source": [],
      "metadata": {
        "id": "02_830uc2qiA"
      },
      "execution_count": null,
      "outputs": []
    },
    {
      "cell_type": "code",
      "source": [
        "#another API call to Google Speech-to-Text service\n",
        "\n",
        "\n",
        "#inputting vocals.wav file which outputs from the vocal separation module\n",
        "\n",
        "#response = \"Or even that you see even the rock and roll I know I hear what it was I love you\"\n",
        "#input response as transcribed_text in levenshtein.py"
      ],
      "metadata": {
        "id": "FeuM7Q0S0Qyb"
      },
      "execution_count": null,
      "outputs": []
    },
    {
      "cell_type": "code",
      "source": [
        "transcribed_text = \"Or even that you see even the rock and roll I know I hear what it was I love you\"\n"
      ],
      "metadata": {
        "id": "-AujoXbX0Q4L"
      },
      "execution_count": null,
      "outputs": []
    },
    {
      "cell_type": "code",
      "source": [
        "!python3 levenshtein.py"
      ],
      "metadata": {
        "colab": {
          "base_uri": "https://localhost:8080/"
        },
        "id": "IpoiXIns0vmA",
        "outputId": "36ee37df-92f8-4f46-f0aa-42c38592081e"
      },
      "execution_count": 25,
      "outputs": [
        {
          "output_type": "stream",
          "name": "stdout",
          "text": [
            "Word Error Rate (WER): 2.97%\n"
          ]
        }
      ]
    },
    {
      "cell_type": "code",
      "source": [
        "!python3 calculate_matrix.py"
      ],
      "metadata": {
        "colab": {
          "base_uri": "https://localhost:8080/"
        },
        "id": "hHt7KtbG0v6T",
        "outputId": "f09ad39a-1039-4743-ffec-2ed2b266e529"
      },
      "execution_count": 26,
      "outputs": [
        {
          "output_type": "stream",
          "name": "stdout",
          "text": [
            "True Positives: 10\n",
            "False Positives: 6\n",
            "False Negatives: 15\n",
            "Precision: 0.62\n",
            "Recall: 0.40\n",
            "F1 Score: 0.49\n"
          ]
        }
      ]
    },
    {
      "cell_type": "code",
      "source": [],
      "metadata": {
        "id": "9LjRhs8-22KG"
      },
      "execution_count": null,
      "outputs": []
    },
    {
      "cell_type": "code",
      "source": [
        "#On the other hand, using another sample en-khaosarn-rd,\n",
        "\n",
        "#prior to using vocal separation project (the \"before\" file),\n",
        "\n",
        "#inputting the loud-background noise vdo.mp4\n",
        "\n",
        "# the result was not quite good, as shown below"
      ],
      "metadata": {
        "id": "mReq84AW22Pn"
      },
      "execution_count": null,
      "outputs": []
    },
    {
      "cell_type": "code",
      "source": [
        "Word Error Rate (WER): 5.29%\n"
      ],
      "metadata": {
        "id": "KO4NRr9222gb"
      },
      "execution_count": null,
      "outputs": []
    },
    {
      "cell_type": "code",
      "source": [
        "!python3 calculate_matrix.py\n",
        "\n",
        "True Positives: 1\n",
        "False Positives: 0\n",
        "False Negatives: 15\n",
        "Precision: 1.00\n",
        "Recall: 0.06\n",
        "F1 Score: 0.12\n"
      ],
      "metadata": {
        "colab": {
          "base_uri": "https://localhost:8080/",
          "height": 142
        },
        "id": "t6zKA7YS34Y4",
        "outputId": "1af0916f-edbe-4641-e44b-fccfdf884910"
      },
      "execution_count": 29,
      "outputs": [
        {
          "output_type": "error",
          "ename": "SyntaxError",
          "evalue": "ignored",
          "traceback": [
            "\u001b[0;36m  File \u001b[0;32m\"<ipython-input-29-d4102a6f922c>\"\u001b[0;36m, line \u001b[0;32m1\u001b[0m\n\u001b[0;31m    Works/dubme$ python3 calculate_matrix.py\u001b[0m\n\u001b[0m               ^\u001b[0m\n\u001b[0;31mSyntaxError\u001b[0m\u001b[0;31m:\u001b[0m invalid syntax\n"
          ]
        }
      ]
    },
    {
      "cell_type": "code",
      "source": [],
      "metadata": {
        "id": "fw6uWwNR52XF"
      },
      "execution_count": null,
      "outputs": []
    },
    {
      "cell_type": "code",
      "source": [
        "# However, when inputting the en-khaosarn-rd.wav,\n",
        "# which output from our vocal separation module (the \"after\" file)\n",
        "# the response was"
      ],
      "metadata": {
        "id": "20fE_a5452gc"
      },
      "execution_count": null,
      "outputs": []
    },
    {
      "cell_type": "code",
      "source": [
        "#We could not process your audio with this model."
      ],
      "metadata": {
        "id": "_5Fcp1cd4AAr"
      },
      "execution_count": null,
      "outputs": []
    },
    {
      "cell_type": "code",
      "source": [],
      "metadata": {
        "id": "tij7Hr3r6co6"
      },
      "execution_count": null,
      "outputs": []
    },
    {
      "cell_type": "code",
      "source": [
        "!git clone https://github.com/PimwipaV/dubme-separate-vocal-module.git"
      ],
      "metadata": {
        "colab": {
          "base_uri": "https://localhost:8080/"
        },
        "id": "Y02RZwkK6cxn",
        "outputId": "3b02082a-ff9d-4241-b977-67eca9ef0160"
      },
      "execution_count": 31,
      "outputs": [
        {
          "output_type": "stream",
          "name": "stdout",
          "text": [
            "Cloning into 'dubme-separate-vocal-module'...\n",
            "remote: Enumerating objects: 42, done.\u001b[K\n",
            "remote: Counting objects: 100% (4/4), done.\u001b[K\n",
            "remote: Compressing objects: 100% (3/3), done.\u001b[K\n",
            "remote: Total 42 (delta 0), reused 4 (delta 0), pack-reused 38\u001b[K\n",
            "Receiving objects: 100% (42/42), 69.29 MiB | 39.77 MiB/s, done.\n",
            "Resolving deltas: 100% (5/5), done.\n"
          ]
        }
      ]
    },
    {
      "cell_type": "code",
      "source": [
        "pwd"
      ],
      "metadata": {
        "colab": {
          "base_uri": "https://localhost:8080/",
          "height": 35
        },
        "id": "BoUHcS716rUK",
        "outputId": "d3385acb-fe5f-4245-b789-0c950cab45e0"
      },
      "execution_count": 32,
      "outputs": [
        {
          "output_type": "execute_result",
          "data": {
            "text/plain": [
              "'/content'"
            ],
            "application/vnd.google.colaboratory.intrinsic+json": {
              "type": "string"
            }
          },
          "metadata": {},
          "execution_count": 32
        }
      ]
    },
    {
      "cell_type": "code",
      "source": [
        "cd dubme-separate-vocal-module/"
      ],
      "metadata": {
        "colab": {
          "base_uri": "https://localhost:8080/"
        },
        "id": "Fu5eDwfA6wmq",
        "outputId": "609b05dd-dfa8-4ca2-f521-08ff33dc22a0"
      },
      "execution_count": 33,
      "outputs": [
        {
          "output_type": "stream",
          "name": "stdout",
          "text": [
            "/content/dubme-separate-vocal-module\n"
          ]
        }
      ]
    },
    {
      "cell_type": "code",
      "source": [
        "!git status"
      ],
      "metadata": {
        "colab": {
          "base_uri": "https://localhost:8080/"
        },
        "id": "KjYHBXGI60U1",
        "outputId": "60aa04d3-3598-4063-89bd-84df6f236fec"
      },
      "execution_count": 39,
      "outputs": [
        {
          "output_type": "stream",
          "name": "stdout",
          "text": [
            "On branch main\n",
            "Your branch is up to date with 'origin/main'.\n",
            "\n",
            "Untracked files:\n",
            "  (use \"git add <file>...\" to include in what will be committed)\n",
            "\t\u001b[31mcalculate_matrix.py\u001b[m\n",
            "\t\u001b[31mlevenshtein.py\u001b[m\n",
            "\n",
            "nothing added to commit but untracked files present (use \"git add\" to track)\n"
          ]
        }
      ]
    },
    {
      "cell_type": "code",
      "source": [
        "!git add ."
      ],
      "metadata": {
        "id": "9jQ8WSLR7ARv"
      },
      "execution_count": 41,
      "outputs": []
    },
    {
      "cell_type": "code",
      "source": [],
      "metadata": {
        "id": "k8XgT3tJ7Gfz"
      },
      "execution_count": null,
      "outputs": []
    }
  ]
}